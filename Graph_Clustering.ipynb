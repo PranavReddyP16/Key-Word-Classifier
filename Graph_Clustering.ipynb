{
  "nbformat": 4,
  "nbformat_minor": 0,
  "metadata": {
    "colab": {
      "name": "Graph_Clustering.ipynb",
      "provenance": []
    },
    "kernelspec": {
      "name": "python3",
      "display_name": "Python 3"
    },
    "language_info": {
      "name": "python"
    }
  },
  "cells": [
    {
      "cell_type": "code",
      "metadata": {
        "id": "RttpsJsiSNIm"
      },
      "source": [
        "import numpy as np\n",
        "import pandas as pd\n",
        "import json\n",
        "import pickle"
      ],
      "execution_count": null,
      "outputs": []
    },
    {
      "cell_type": "code",
      "metadata": {
        "colab": {
          "base_uri": "https://localhost:8080/"
        },
        "id": "JAd9LFRHSerF",
        "outputId": "49e5ec9e-2122-4441-fdb7-19a1551ca550"
      },
      "source": [
        "vector_file = open('node_vectors_500.pickle', \"rb\")\n",
        "adj = pickle.load(vector_file)\n",
        "print(adj['machine_learning'].size)"
      ],
      "execution_count": null,
      "outputs": [
        {
          "output_type": "stream",
          "text": [
            "128\n"
          ],
          "name": "stdout"
        }
      ]
    },
    {
      "cell_type": "code",
      "metadata": {
        "colab": {
          "base_uri": "https://localhost:8080/"
        },
        "id": "4oxiVrq1S88Q",
        "outputId": "9367b4a2-5382-4bf3-ff76-26baa6ff6896"
      },
      "source": [
        "data = pd.DataFrame.from_dict(adj, orient='index')\n",
        "data = data[~data.index.duplicated(keep='first')]\n",
        "print(len(data))"
      ],
      "execution_count": null,
      "outputs": [
        {
          "output_type": "stream",
          "text": [
            "13988\n"
          ],
          "name": "stdout"
        }
      ]
    },
    {
      "cell_type": "code",
      "metadata": {
        "colab": {
          "base_uri": "https://localhost:8080/"
        },
        "id": "gIAf9fsn5yov",
        "outputId": "87e6258b-620f-4d18-e753-680e6359ca33"
      },
      "source": [
        "# Standardizing the data\n",
        "\n",
        "from sklearn.preprocessing import StandardScaler\n",
        "\n",
        "standardized_vector = StandardScaler().fit_transform(data)\n",
        "len(standardized_vector)"
      ],
      "execution_count": null,
      "outputs": [
        {
          "output_type": "execute_result",
          "data": {
            "text/plain": [
              "13988"
            ]
          },
          "metadata": {
            "tags": []
          },
          "execution_count": 115
        }
      ]
    },
    {
      "cell_type": "code",
      "metadata": {
        "colab": {
          "base_uri": "https://localhost:8080/",
          "height": 204
        },
        "id": "QA0SopB89A6n",
        "outputId": "db3713ea-d4bd-4cce-ac45-a5bfbd3d5f70"
      },
      "source": [
        "# Performing PCA due reduce the effect of the curse of dimensionality\n",
        "# Remember to test for optimal number of components\n",
        "\n",
        "from sklearn.decomposition import PCA\n",
        "pca = PCA(n_components=6)\n",
        "\n",
        "principalComponents = pca.fit_transform(standardized_vector)\n",
        "\n",
        "principalDf = pd.DataFrame(data = principalComponents)\n",
        "principalDf.head()"
      ],
      "execution_count": null,
      "outputs": [
        {
          "output_type": "execute_result",
          "data": {
            "text/html": [
              "<div>\n",
              "<style scoped>\n",
              "    .dataframe tbody tr th:only-of-type {\n",
              "        vertical-align: middle;\n",
              "    }\n",
              "\n",
              "    .dataframe tbody tr th {\n",
              "        vertical-align: top;\n",
              "    }\n",
              "\n",
              "    .dataframe thead th {\n",
              "        text-align: right;\n",
              "    }\n",
              "</style>\n",
              "<table border=\"1\" class=\"dataframe\">\n",
              "  <thead>\n",
              "    <tr style=\"text-align: right;\">\n",
              "      <th></th>\n",
              "      <th>0</th>\n",
              "      <th>1</th>\n",
              "      <th>2</th>\n",
              "      <th>3</th>\n",
              "      <th>4</th>\n",
              "      <th>5</th>\n",
              "    </tr>\n",
              "  </thead>\n",
              "  <tbody>\n",
              "    <tr>\n",
              "      <th>0</th>\n",
              "      <td>-0.386822</td>\n",
              "      <td>-0.901220</td>\n",
              "      <td>1.085504</td>\n",
              "      <td>0.048701</td>\n",
              "      <td>-1.691690</td>\n",
              "      <td>1.276323</td>\n",
              "    </tr>\n",
              "    <tr>\n",
              "      <th>1</th>\n",
              "      <td>-1.889191</td>\n",
              "      <td>0.835328</td>\n",
              "      <td>1.357483</td>\n",
              "      <td>-1.717455</td>\n",
              "      <td>0.807843</td>\n",
              "      <td>0.363158</td>\n",
              "    </tr>\n",
              "    <tr>\n",
              "      <th>2</th>\n",
              "      <td>-1.941747</td>\n",
              "      <td>-0.615835</td>\n",
              "      <td>0.882207</td>\n",
              "      <td>-0.213435</td>\n",
              "      <td>-1.400206</td>\n",
              "      <td>-1.352018</td>\n",
              "    </tr>\n",
              "    <tr>\n",
              "      <th>3</th>\n",
              "      <td>-0.903497</td>\n",
              "      <td>-0.695601</td>\n",
              "      <td>1.803914</td>\n",
              "      <td>-1.977170</td>\n",
              "      <td>-1.297962</td>\n",
              "      <td>-1.130378</td>\n",
              "    </tr>\n",
              "    <tr>\n",
              "      <th>4</th>\n",
              "      <td>1.118133</td>\n",
              "      <td>-0.582713</td>\n",
              "      <td>-1.581990</td>\n",
              "      <td>1.048230</td>\n",
              "      <td>-0.901582</td>\n",
              "      <td>1.606032</td>\n",
              "    </tr>\n",
              "  </tbody>\n",
              "</table>\n",
              "</div>"
            ],
            "text/plain": [
              "          0         1         2         3         4         5\n",
              "0 -0.386822 -0.901220  1.085504  0.048701 -1.691690  1.276323\n",
              "1 -1.889191  0.835328  1.357483 -1.717455  0.807843  0.363158\n",
              "2 -1.941747 -0.615835  0.882207 -0.213435 -1.400206 -1.352018\n",
              "3 -0.903497 -0.695601  1.803914 -1.977170 -1.297962 -1.130378\n",
              "4  1.118133 -0.582713 -1.581990  1.048230 -0.901582  1.606032"
            ]
          },
          "metadata": {
            "tags": []
          },
          "execution_count": 116
        }
      ]
    },
    {
      "cell_type": "code",
      "metadata": {
        "colab": {
          "base_uri": "https://localhost:8080/"
        },
        "id": "k1OuDq-dAtYT",
        "outputId": "4757ae39-7f23-4afb-de05-f1e4d3b809b1"
      },
      "source": [
        "from sklearn.cluster import AgglomerativeClustering\n",
        "\n",
        "ac = AgglomerativeClustering(n_clusters = 4)\n",
        "ac.fit(principalDf)"
      ],
      "execution_count": null,
      "outputs": [
        {
          "output_type": "execute_result",
          "data": {
            "text/plain": [
              "AgglomerativeClustering(affinity='euclidean', compute_full_tree='auto',\n",
              "                        connectivity=None, distance_threshold=None,\n",
              "                        linkage='ward', memory=None, n_clusters=4)"
            ]
          },
          "metadata": {
            "tags": []
          },
          "execution_count": 68
        }
      ]
    },
    {
      "cell_type": "code",
      "metadata": {
        "colab": {
          "base_uri": "https://localhost:8080/",
          "height": 359
        },
        "id": "_3yrTgltBIJP",
        "outputId": "55f7b1ee-b418-4883-c4fc-e74dac14cedd"
      },
      "source": [
        "ac_labels = pd.DataFrame(index=data.index)\n",
        "\n",
        "ac_labels['label'] = ac.labels_\n",
        "ac_labels.head(10)"
      ],
      "execution_count": null,
      "outputs": [
        {
          "output_type": "execute_result",
          "data": {
            "text/html": [
              "<div>\n",
              "<style scoped>\n",
              "    .dataframe tbody tr th:only-of-type {\n",
              "        vertical-align: middle;\n",
              "    }\n",
              "\n",
              "    .dataframe tbody tr th {\n",
              "        vertical-align: top;\n",
              "    }\n",
              "\n",
              "    .dataframe thead th {\n",
              "        text-align: right;\n",
              "    }\n",
              "</style>\n",
              "<table border=\"1\" class=\"dataframe\">\n",
              "  <thead>\n",
              "    <tr style=\"text-align: right;\">\n",
              "      <th></th>\n",
              "      <th>label</th>\n",
              "    </tr>\n",
              "  </thead>\n",
              "  <tbody>\n",
              "    <tr>\n",
              "      <th>machine_learning</th>\n",
              "      <td>2</td>\n",
              "    </tr>\n",
              "    <tr>\n",
              "      <th>genetic_algorithm</th>\n",
              "      <td>3</td>\n",
              "    </tr>\n",
              "    <tr>\n",
              "      <th>classification</th>\n",
              "      <td>0</td>\n",
              "    </tr>\n",
              "    <tr>\n",
              "      <th>deep_learning</th>\n",
              "      <td>1</td>\n",
              "    </tr>\n",
              "    <tr>\n",
              "      <th>data_mining</th>\n",
              "      <td>2</td>\n",
              "    </tr>\n",
              "    <tr>\n",
              "      <th>cloud_computing</th>\n",
              "      <td>1</td>\n",
              "    </tr>\n",
              "    <tr>\n",
              "      <th>support_vector_machine</th>\n",
              "      <td>1</td>\n",
              "    </tr>\n",
              "    <tr>\n",
              "      <th>clustering</th>\n",
              "      <td>3</td>\n",
              "    </tr>\n",
              "    <tr>\n",
              "      <th>model_check</th>\n",
              "      <td>1</td>\n",
              "    </tr>\n",
              "    <tr>\n",
              "      <th>security</th>\n",
              "      <td>3</td>\n",
              "    </tr>\n",
              "  </tbody>\n",
              "</table>\n",
              "</div>"
            ],
            "text/plain": [
              "                        label\n",
              "machine_learning            2\n",
              "genetic_algorithm           3\n",
              "classification              0\n",
              "deep_learning               1\n",
              "data_mining                 2\n",
              "cloud_computing             1\n",
              "support_vector_machine      1\n",
              "clustering                  3\n",
              "model_check                 1\n",
              "security                    3"
            ]
          },
          "metadata": {
            "tags": []
          },
          "execution_count": 108
        }
      ]
    },
    {
      "cell_type": "code",
      "metadata": {
        "colab": {
          "base_uri": "https://localhost:8080/"
        },
        "id": "w0RsK2-9LlDU",
        "outputId": "6ded530f-0353-49b7-d8c1-ac9239567759"
      },
      "source": [
        "from sklearn.cluster import KMeans\n",
        "\n",
        "kmeans = KMeans(n_clusters=10, init='k-means++', max_iter=300, n_init=10, random_state=0)\n",
        "kmeans.fit(principalDf)"
      ],
      "execution_count": null,
      "outputs": [
        {
          "output_type": "execute_result",
          "data": {
            "text/plain": [
              "KMeans(algorithm='auto', copy_x=True, init='k-means++', max_iter=300,\n",
              "       n_clusters=10, n_init=10, n_jobs=None, precompute_distances='auto',\n",
              "       random_state=0, tol=0.0001, verbose=0)"
            ]
          },
          "metadata": {
            "tags": []
          },
          "execution_count": 117
        }
      ]
    },
    {
      "cell_type": "code",
      "metadata": {
        "colab": {
          "base_uri": "https://localhost:8080/",
          "height": 359
        },
        "id": "qnfQcoBRDY2a",
        "outputId": "8dd202c5-b5f3-4fee-f638-605f1028f189"
      },
      "source": [
        "kmeans_labels = pd.DataFrame(index=data.index)\n",
        "\n",
        "kmeans_labels['label'] = kmeans.labels_\n",
        "kmeans_labels.head(10)"
      ],
      "execution_count": null,
      "outputs": [
        {
          "output_type": "execute_result",
          "data": {
            "text/html": [
              "<div>\n",
              "<style scoped>\n",
              "    .dataframe tbody tr th:only-of-type {\n",
              "        vertical-align: middle;\n",
              "    }\n",
              "\n",
              "    .dataframe tbody tr th {\n",
              "        vertical-align: top;\n",
              "    }\n",
              "\n",
              "    .dataframe thead th {\n",
              "        text-align: right;\n",
              "    }\n",
              "</style>\n",
              "<table border=\"1\" class=\"dataframe\">\n",
              "  <thead>\n",
              "    <tr style=\"text-align: right;\">\n",
              "      <th></th>\n",
              "      <th>label</th>\n",
              "    </tr>\n",
              "  </thead>\n",
              "  <tbody>\n",
              "    <tr>\n",
              "      <th>machine_learning</th>\n",
              "      <td>7</td>\n",
              "    </tr>\n",
              "    <tr>\n",
              "      <th>genetic_algorithm</th>\n",
              "      <td>1</td>\n",
              "    </tr>\n",
              "    <tr>\n",
              "      <th>classification</th>\n",
              "      <td>7</td>\n",
              "    </tr>\n",
              "    <tr>\n",
              "      <th>deep_learning</th>\n",
              "      <td>0</td>\n",
              "    </tr>\n",
              "    <tr>\n",
              "      <th>data_mining</th>\n",
              "      <td>8</td>\n",
              "    </tr>\n",
              "    <tr>\n",
              "      <th>cloud_computing</th>\n",
              "      <td>5</td>\n",
              "    </tr>\n",
              "    <tr>\n",
              "      <th>support_vector_machine</th>\n",
              "      <td>3</td>\n",
              "    </tr>\n",
              "    <tr>\n",
              "      <th>clustering</th>\n",
              "      <td>4</td>\n",
              "    </tr>\n",
              "    <tr>\n",
              "      <th>model_check</th>\n",
              "      <td>7</td>\n",
              "    </tr>\n",
              "    <tr>\n",
              "      <th>security</th>\n",
              "      <td>3</td>\n",
              "    </tr>\n",
              "  </tbody>\n",
              "</table>\n",
              "</div>"
            ],
            "text/plain": [
              "                        label\n",
              "machine_learning            7\n",
              "genetic_algorithm           1\n",
              "classification              7\n",
              "deep_learning               0\n",
              "data_mining                 8\n",
              "cloud_computing             5\n",
              "support_vector_machine      3\n",
              "clustering                  4\n",
              "model_check                 7\n",
              "security                    3"
            ]
          },
          "metadata": {
            "tags": []
          },
          "execution_count": 118
        }
      ]
    },
    {
      "cell_type": "code",
      "metadata": {
        "colab": {
          "base_uri": "https://localhost:8080/",
          "height": 979
        },
        "id": "_aVYd_SCGEC9",
        "outputId": "21672b8b-e995-458c-8a79-4d20f0e4fb87"
      },
      "source": [
        "df = kmeans_labels[kmeans_labels['label']==9]\n",
        "df.head(30)"
      ],
      "execution_count": null,
      "outputs": [
        {
          "output_type": "execute_result",
          "data": {
            "text/html": [
              "<div>\n",
              "<style scoped>\n",
              "    .dataframe tbody tr th:only-of-type {\n",
              "        vertical-align: middle;\n",
              "    }\n",
              "\n",
              "    .dataframe tbody tr th {\n",
              "        vertical-align: top;\n",
              "    }\n",
              "\n",
              "    .dataframe thead th {\n",
              "        text-align: right;\n",
              "    }\n",
              "</style>\n",
              "<table border=\"1\" class=\"dataframe\">\n",
              "  <thead>\n",
              "    <tr style=\"text-align: right;\">\n",
              "      <th></th>\n",
              "      <th>label</th>\n",
              "    </tr>\n",
              "  </thead>\n",
              "  <tbody>\n",
              "    <tr>\n",
              "      <th>multiagent_system</th>\n",
              "      <td>9</td>\n",
              "    </tr>\n",
              "    <tr>\n",
              "      <th>business_process</th>\n",
              "      <td>9</td>\n",
              "    </tr>\n",
              "    <tr>\n",
              "      <th>internet_of_things</th>\n",
              "      <td>9</td>\n",
              "    </tr>\n",
              "    <tr>\n",
              "      <th>sentiment_analysis</th>\n",
              "      <td>9</td>\n",
              "    </tr>\n",
              "    <tr>\n",
              "      <th>knowledge_management</th>\n",
              "      <td>9</td>\n",
              "    </tr>\n",
              "    <tr>\n",
              "      <th>pattern_recognition</th>\n",
              "      <td>9</td>\n",
              "    </tr>\n",
              "    <tr>\n",
              "      <th>parallel_composition</th>\n",
              "      <td>9</td>\n",
              "    </tr>\n",
              "    <tr>\n",
              "      <th>verification</th>\n",
              "      <td>9</td>\n",
              "    </tr>\n",
              "    <tr>\n",
              "      <th>dynamic_programming</th>\n",
              "      <td>9</td>\n",
              "    </tr>\n",
              "    <tr>\n",
              "      <th>object_detection</th>\n",
              "      <td>9</td>\n",
              "    </tr>\n",
              "    <tr>\n",
              "      <th>competitive_ratio</th>\n",
              "      <td>9</td>\n",
              "    </tr>\n",
              "    <tr>\n",
              "      <th>proof_system</th>\n",
              "      <td>9</td>\n",
              "    </tr>\n",
              "    <tr>\n",
              "      <th>multiobjective_optimization</th>\n",
              "      <td>9</td>\n",
              "    </tr>\n",
              "    <tr>\n",
              "      <th>query_expansion</th>\n",
              "      <td>9</td>\n",
              "    </tr>\n",
              "    <tr>\n",
              "      <th>approximation_algorithms</th>\n",
              "      <td>9</td>\n",
              "    </tr>\n",
              "    <tr>\n",
              "      <th>software_product_line</th>\n",
              "      <td>9</td>\n",
              "    </tr>\n",
              "    <tr>\n",
              "      <th>sparse_representation</th>\n",
              "      <td>9</td>\n",
              "    </tr>\n",
              "    <tr>\n",
              "      <th>motion_estimation</th>\n",
              "      <td>9</td>\n",
              "    </tr>\n",
              "    <tr>\n",
              "      <th>singular_value_decomposition</th>\n",
              "      <td>9</td>\n",
              "    </tr>\n",
              "    <tr>\n",
              "      <th>integer_programming</th>\n",
              "      <td>9</td>\n",
              "    </tr>\n",
              "    <tr>\n",
              "      <th>edit_distance</th>\n",
              "      <td>9</td>\n",
              "    </tr>\n",
              "    <tr>\n",
              "      <th>tracking</th>\n",
              "      <td>9</td>\n",
              "    </tr>\n",
              "    <tr>\n",
              "      <th>image_classification</th>\n",
              "      <td>9</td>\n",
              "    </tr>\n",
              "    <tr>\n",
              "      <th>noun_phrase</th>\n",
              "      <td>9</td>\n",
              "    </tr>\n",
              "    <tr>\n",
              "      <th>network_security</th>\n",
              "      <td>9</td>\n",
              "    </tr>\n",
              "    <tr>\n",
              "      <th>local_binary_pattern</th>\n",
              "      <td>9</td>\n",
              "    </tr>\n",
              "    <tr>\n",
              "      <th>monitoring</th>\n",
              "      <td>9</td>\n",
              "    </tr>\n",
              "    <tr>\n",
              "      <th>radial_basis_function</th>\n",
              "      <td>9</td>\n",
              "    </tr>\n",
              "    <tr>\n",
              "      <th>mobile_node</th>\n",
              "      <td>9</td>\n",
              "    </tr>\n",
              "    <tr>\n",
              "      <th>mutual_exclusion</th>\n",
              "      <td>9</td>\n",
              "    </tr>\n",
              "  </tbody>\n",
              "</table>\n",
              "</div>"
            ],
            "text/plain": [
              "                              label\n",
              "multiagent_system                 9\n",
              "business_process                  9\n",
              "internet_of_things                9\n",
              "sentiment_analysis                9\n",
              "knowledge_management              9\n",
              "pattern_recognition               9\n",
              "parallel_composition              9\n",
              "verification                      9\n",
              "dynamic_programming               9\n",
              "object_detection                  9\n",
              "competitive_ratio                 9\n",
              "proof_system                      9\n",
              "multiobjective_optimization       9\n",
              "query_expansion                   9\n",
              "approximation_algorithms          9\n",
              "software_product_line             9\n",
              "sparse_representation             9\n",
              "motion_estimation                 9\n",
              "singular_value_decomposition      9\n",
              "integer_programming               9\n",
              "edit_distance                     9\n",
              "tracking                          9\n",
              "image_classification              9\n",
              "noun_phrase                       9\n",
              "network_security                  9\n",
              "local_binary_pattern              9\n",
              "monitoring                        9\n",
              "radial_basis_function             9\n",
              "mobile_node                       9\n",
              "mutual_exclusion                  9"
            ]
          },
          "metadata": {
            "tags": []
          },
          "execution_count": 129
        }
      ]
    },
    {
      "cell_type": "code",
      "metadata": {
        "colab": {
          "base_uri": "https://localhost:8080/",
          "height": 979
        },
        "id": "iqhDrg6AMF0I",
        "outputId": "4c323d09-3417-4a91-c574-91cabee3cc9a"
      },
      "source": [
        "titles = []\n",
        "titles.append('deep_learning')\n",
        "titles.append('optimization')\n",
        "titles.append('graphs')\n",
        "titles.append('security')\n",
        "titles.append('clustering')\n",
        "titles.append('cloud_computing')\n",
        "titles.append('algorithms')\n",
        "titles.append('machine_learning')\n",
        "titles.append('data_mining')\n",
        "titles.append('internet_of_things')\n",
        "\n",
        "labelled_df = kmeans_labels\n",
        "\n",
        "labels = []\n",
        "for i in range(len(kmeans_labels)):\n",
        "  labels.append(titles[kmeans_labels['label'][i]])\n",
        "\n",
        "labelled_df['keyword'] = labels\n",
        "labelled_df.head(30)"
      ],
      "execution_count": null,
      "outputs": [
        {
          "output_type": "execute_result",
          "data": {
            "text/html": [
              "<div>\n",
              "<style scoped>\n",
              "    .dataframe tbody tr th:only-of-type {\n",
              "        vertical-align: middle;\n",
              "    }\n",
              "\n",
              "    .dataframe tbody tr th {\n",
              "        vertical-align: top;\n",
              "    }\n",
              "\n",
              "    .dataframe thead th {\n",
              "        text-align: right;\n",
              "    }\n",
              "</style>\n",
              "<table border=\"1\" class=\"dataframe\">\n",
              "  <thead>\n",
              "    <tr style=\"text-align: right;\">\n",
              "      <th></th>\n",
              "      <th>label</th>\n",
              "      <th>keyword</th>\n",
              "    </tr>\n",
              "  </thead>\n",
              "  <tbody>\n",
              "    <tr>\n",
              "      <th>machine_learning</th>\n",
              "      <td>7</td>\n",
              "      <td>machine_learning</td>\n",
              "    </tr>\n",
              "    <tr>\n",
              "      <th>genetic_algorithm</th>\n",
              "      <td>1</td>\n",
              "      <td>optimization</td>\n",
              "    </tr>\n",
              "    <tr>\n",
              "      <th>classification</th>\n",
              "      <td>7</td>\n",
              "      <td>machine_learning</td>\n",
              "    </tr>\n",
              "    <tr>\n",
              "      <th>deep_learning</th>\n",
              "      <td>0</td>\n",
              "      <td>deep_learning</td>\n",
              "    </tr>\n",
              "    <tr>\n",
              "      <th>data_mining</th>\n",
              "      <td>8</td>\n",
              "      <td>data_mining</td>\n",
              "    </tr>\n",
              "    <tr>\n",
              "      <th>cloud_computing</th>\n",
              "      <td>5</td>\n",
              "      <td>cloud_computing</td>\n",
              "    </tr>\n",
              "    <tr>\n",
              "      <th>support_vector_machine</th>\n",
              "      <td>3</td>\n",
              "      <td>security</td>\n",
              "    </tr>\n",
              "    <tr>\n",
              "      <th>clustering</th>\n",
              "      <td>4</td>\n",
              "      <td>clustering</td>\n",
              "    </tr>\n",
              "    <tr>\n",
              "      <th>model_check</th>\n",
              "      <td>7</td>\n",
              "      <td>machine_learning</td>\n",
              "    </tr>\n",
              "    <tr>\n",
              "      <th>security</th>\n",
              "      <td>3</td>\n",
              "      <td>security</td>\n",
              "    </tr>\n",
              "    <tr>\n",
              "      <th>optimization</th>\n",
              "      <td>1</td>\n",
              "      <td>optimization</td>\n",
              "    </tr>\n",
              "    <tr>\n",
              "      <th>feature_selection</th>\n",
              "      <td>7</td>\n",
              "      <td>machine_learning</td>\n",
              "    </tr>\n",
              "    <tr>\n",
              "      <th>neural_network</th>\n",
              "      <td>1</td>\n",
              "      <td>optimization</td>\n",
              "    </tr>\n",
              "    <tr>\n",
              "      <th>multiagent_system</th>\n",
              "      <td>9</td>\n",
              "      <td>internet_of_things</td>\n",
              "    </tr>\n",
              "    <tr>\n",
              "      <th>simulation</th>\n",
              "      <td>3</td>\n",
              "      <td>security</td>\n",
              "    </tr>\n",
              "    <tr>\n",
              "      <th>neural_networks</th>\n",
              "      <td>7</td>\n",
              "      <td>machine_learning</td>\n",
              "    </tr>\n",
              "    <tr>\n",
              "      <th>artificial_intelligence</th>\n",
              "      <td>6</td>\n",
              "      <td>algorithms</td>\n",
              "    </tr>\n",
              "    <tr>\n",
              "      <th>ontology</th>\n",
              "      <td>1</td>\n",
              "      <td>optimization</td>\n",
              "    </tr>\n",
              "    <tr>\n",
              "      <th>wireless_sensor_network</th>\n",
              "      <td>8</td>\n",
              "      <td>data_mining</td>\n",
              "    </tr>\n",
              "    <tr>\n",
              "      <th>logic_program</th>\n",
              "      <td>0</td>\n",
              "      <td>deep_learning</td>\n",
              "    </tr>\n",
              "    <tr>\n",
              "      <th>virtual_reality</th>\n",
              "      <td>7</td>\n",
              "      <td>machine_learning</td>\n",
              "    </tr>\n",
              "    <tr>\n",
              "      <th>particle_swarm_optimization</th>\n",
              "      <td>1</td>\n",
              "      <td>optimization</td>\n",
              "    </tr>\n",
              "    <tr>\n",
              "      <th>privacy</th>\n",
              "      <td>0</td>\n",
              "      <td>deep_learning</td>\n",
              "    </tr>\n",
              "    <tr>\n",
              "      <th>scheduling</th>\n",
              "      <td>8</td>\n",
              "      <td>data_mining</td>\n",
              "    </tr>\n",
              "    <tr>\n",
              "      <th>face_recognition</th>\n",
              "      <td>3</td>\n",
              "      <td>security</td>\n",
              "    </tr>\n",
              "    <tr>\n",
              "      <th>logic_programming</th>\n",
              "      <td>7</td>\n",
              "      <td>machine_learning</td>\n",
              "    </tr>\n",
              "    <tr>\n",
              "      <th>augmented_reality</th>\n",
              "      <td>2</td>\n",
              "      <td>graphs</td>\n",
              "    </tr>\n",
              "    <tr>\n",
              "      <th>operational_semantic</th>\n",
              "      <td>6</td>\n",
              "      <td>algorithms</td>\n",
              "    </tr>\n",
              "    <tr>\n",
              "      <th>big_data</th>\n",
              "      <td>8</td>\n",
              "      <td>data_mining</td>\n",
              "    </tr>\n",
              "    <tr>\n",
              "      <th>information_retrieval</th>\n",
              "      <td>0</td>\n",
              "      <td>deep_learning</td>\n",
              "    </tr>\n",
              "  </tbody>\n",
              "</table>\n",
              "</div>"
            ],
            "text/plain": [
              "                             label             keyword\n",
              "machine_learning                 7    machine_learning\n",
              "genetic_algorithm                1        optimization\n",
              "classification                   7    machine_learning\n",
              "deep_learning                    0       deep_learning\n",
              "data_mining                      8         data_mining\n",
              "cloud_computing                  5     cloud_computing\n",
              "support_vector_machine           3            security\n",
              "clustering                       4          clustering\n",
              "model_check                      7    machine_learning\n",
              "security                         3            security\n",
              "optimization                     1        optimization\n",
              "feature_selection                7    machine_learning\n",
              "neural_network                   1        optimization\n",
              "multiagent_system                9  internet_of_things\n",
              "simulation                       3            security\n",
              "neural_networks                  7    machine_learning\n",
              "artificial_intelligence          6          algorithms\n",
              "ontology                         1        optimization\n",
              "wireless_sensor_network          8         data_mining\n",
              "logic_program                    0       deep_learning\n",
              "virtual_reality                  7    machine_learning\n",
              "particle_swarm_optimization      1        optimization\n",
              "privacy                          0       deep_learning\n",
              "scheduling                       8         data_mining\n",
              "face_recognition                 3            security\n",
              "logic_programming                7    machine_learning\n",
              "augmented_reality                2              graphs\n",
              "operational_semantic             6          algorithms\n",
              "big_data                         8         data_mining\n",
              "information_retrieval            0       deep_learning"
            ]
          },
          "metadata": {
            "tags": []
          },
          "execution_count": 130
        }
      ]
    },
    {
      "cell_type": "code",
      "metadata": {
        "colab": {
          "base_uri": "https://localhost:8080/",
          "height": 204
        },
        "id": "ABkDvmUMX9KN",
        "outputId": "5d1ba1a2-456e-4212-beda-2285ac606ce4"
      },
      "source": [
        "final_df = labelled_df.drop(['label'], axis=1)\n",
        "final_df.to_csv('final_labels.csv')\n",
        "\n",
        "temp = pd.read_csv('final_labels.csv')\n",
        "temp.head()"
      ],
      "execution_count": null,
      "outputs": [
        {
          "output_type": "execute_result",
          "data": {
            "text/html": [
              "<div>\n",
              "<style scoped>\n",
              "    .dataframe tbody tr th:only-of-type {\n",
              "        vertical-align: middle;\n",
              "    }\n",
              "\n",
              "    .dataframe tbody tr th {\n",
              "        vertical-align: top;\n",
              "    }\n",
              "\n",
              "    .dataframe thead th {\n",
              "        text-align: right;\n",
              "    }\n",
              "</style>\n",
              "<table border=\"1\" class=\"dataframe\">\n",
              "  <thead>\n",
              "    <tr style=\"text-align: right;\">\n",
              "      <th></th>\n",
              "      <th>Unnamed: 0</th>\n",
              "      <th>keyword</th>\n",
              "    </tr>\n",
              "  </thead>\n",
              "  <tbody>\n",
              "    <tr>\n",
              "      <th>0</th>\n",
              "      <td>machine_learning</td>\n",
              "      <td>machine_learning</td>\n",
              "    </tr>\n",
              "    <tr>\n",
              "      <th>1</th>\n",
              "      <td>genetic_algorithm</td>\n",
              "      <td>optimization</td>\n",
              "    </tr>\n",
              "    <tr>\n",
              "      <th>2</th>\n",
              "      <td>classification</td>\n",
              "      <td>machine_learning</td>\n",
              "    </tr>\n",
              "    <tr>\n",
              "      <th>3</th>\n",
              "      <td>deep_learning</td>\n",
              "      <td>deep_learning</td>\n",
              "    </tr>\n",
              "    <tr>\n",
              "      <th>4</th>\n",
              "      <td>data_mining</td>\n",
              "      <td>data_mining</td>\n",
              "    </tr>\n",
              "  </tbody>\n",
              "</table>\n",
              "</div>"
            ],
            "text/plain": [
              "          Unnamed: 0           keyword\n",
              "0   machine_learning  machine_learning\n",
              "1  genetic_algorithm      optimization\n",
              "2     classification  machine_learning\n",
              "3      deep_learning     deep_learning\n",
              "4        data_mining       data_mining"
            ]
          },
          "metadata": {
            "tags": []
          },
          "execution_count": 135
        }
      ]
    },
    {
      "cell_type": "code",
      "metadata": {
        "id": "emDw5pDI-bjj",
        "colab": {
          "base_uri": "https://localhost:8080/"
        },
        "outputId": "06c8b7dd-a05b-4aed-83b8-673fd611eccd"
      },
      "source": [
        "# Took about 10 minutes to run for 5 features and ~14,000 keywords\n",
        "from sklearn.cluster import AffinityPropagation\n",
        "\n",
        "af = AffinityPropagation(preference=-50).fit(principalDf)"
      ],
      "execution_count": null,
      "outputs": [
        {
          "output_type": "stream",
          "text": [
            "/usr/local/lib/python3.7/dist-packages/sklearn/cluster/_affinity_propagation.py:226: ConvergenceWarning: Affinity propagation did not converge, this model will not have any cluster centers.\n",
            "  \"will not have any cluster centers.\", ConvergenceWarning)\n"
          ],
          "name": "stderr"
        }
      ]
    },
    {
      "cell_type": "code",
      "metadata": {
        "colab": {
          "base_uri": "https://localhost:8080/",
          "height": 359
        },
        "id": "RikIbJJqEHhX",
        "outputId": "c42dbd59-351b-49d7-97bb-e75b297fdaa1"
      },
      "source": [
        "af_labels = pd.DataFrame(index=data.index)\n",
        "\n",
        "af_labels['label'] = af.labels_\n",
        "af_labels.head(10)"
      ],
      "execution_count": null,
      "outputs": [
        {
          "output_type": "execute_result",
          "data": {
            "text/html": [
              "<div>\n",
              "<style scoped>\n",
              "    .dataframe tbody tr th:only-of-type {\n",
              "        vertical-align: middle;\n",
              "    }\n",
              "\n",
              "    .dataframe tbody tr th {\n",
              "        vertical-align: top;\n",
              "    }\n",
              "\n",
              "    .dataframe thead th {\n",
              "        text-align: right;\n",
              "    }\n",
              "</style>\n",
              "<table border=\"1\" class=\"dataframe\">\n",
              "  <thead>\n",
              "    <tr style=\"text-align: right;\">\n",
              "      <th></th>\n",
              "      <th>label</th>\n",
              "    </tr>\n",
              "  </thead>\n",
              "  <tbody>\n",
              "    <tr>\n",
              "      <th>machine_learning</th>\n",
              "      <td>-1</td>\n",
              "    </tr>\n",
              "    <tr>\n",
              "      <th>genetic_algorithm</th>\n",
              "      <td>-1</td>\n",
              "    </tr>\n",
              "    <tr>\n",
              "      <th>classification</th>\n",
              "      <td>-1</td>\n",
              "    </tr>\n",
              "    <tr>\n",
              "      <th>deep_learning</th>\n",
              "      <td>-1</td>\n",
              "    </tr>\n",
              "    <tr>\n",
              "      <th>data_mining</th>\n",
              "      <td>-1</td>\n",
              "    </tr>\n",
              "    <tr>\n",
              "      <th>cloud_computing</th>\n",
              "      <td>-1</td>\n",
              "    </tr>\n",
              "    <tr>\n",
              "      <th>support_vector_machine</th>\n",
              "      <td>-1</td>\n",
              "    </tr>\n",
              "    <tr>\n",
              "      <th>clustering</th>\n",
              "      <td>-1</td>\n",
              "    </tr>\n",
              "    <tr>\n",
              "      <th>model_check</th>\n",
              "      <td>-1</td>\n",
              "    </tr>\n",
              "    <tr>\n",
              "      <th>security</th>\n",
              "      <td>-1</td>\n",
              "    </tr>\n",
              "  </tbody>\n",
              "</table>\n",
              "</div>"
            ],
            "text/plain": [
              "                        label\n",
              "machine_learning           -1\n",
              "genetic_algorithm          -1\n",
              "classification             -1\n",
              "deep_learning              -1\n",
              "data_mining                -1\n",
              "cloud_computing            -1\n",
              "support_vector_machine     -1\n",
              "clustering                 -1\n",
              "model_check                -1\n",
              "security                   -1"
            ]
          },
          "metadata": {
            "tags": []
          },
          "execution_count": 9
        }
      ]
    },
    {
      "cell_type": "code",
      "metadata": {
        "id": "QZcAsjw2HHUi"
      },
      "source": [
        "with open('adjacency_list.json') as fp:\n",
        "  adj = json.load(fp)"
      ],
      "execution_count": null,
      "outputs": []
    },
    {
      "cell_type": "code",
      "metadata": {
        "colab": {
          "base_uri": "https://localhost:8080/"
        },
        "id": "vY_Rs5haK36v",
        "outputId": "bd117df2-410b-4a70-ea9a-53a0c9890370"
      },
      "source": [
        "words = kmeans_labels[kmeans_labels['label']==12].index.values.tolist()\n",
        "print(words)"
      ],
      "execution_count": null,
      "outputs": [
        {
          "output_type": "stream",
          "text": [
            "['feature_selection', 'social_media', 'knowledge_management', 'intrusion_detection', 'random_oracle', 'recommender_system', 'fault_tolerance', 'social_network_analysis', 'evolutionary_algorithms', 'interoperability', 'user_interface', 'decision_making', 'twitter', 'linked_data', 'symbolic_execution', 'tree_automaton', 'case_study', 'monitoring', 'functional_programming', 'distributed_computing', 'active_learning', 'congestion_control', 'safety_property', 'mathematical_morphology', 'obstacle_avoidance', 'remote_sensing', 'random_walk', 'reverse_engineering', 'measurement', 'data_quality', 'mixed_reality', 'data_envelopment_analysis', 'ict', 'empirical_study', 'concept_lattice', 'camera_calibration', 'static_analysis', 'hidden_markov_model', 'emotions', 'quadratic_programming', 'collision_avoidance', 'chaos', 'pose_estimation', 'soft_constraint', 'animation', 'topology', 'competitive_analysis', 'undirected_graph', 'pedestrian_detection', 'logic', 'nonnegative_matrix_factorization', 'belief_function', 'parallelism', 'query_execution', 'lattice', 'binary_string', 'graph_algorithms', 'sequential_composition', 'manufacturing', 'computational_intelligence', 'dynamics', 'model-driven_development', 'cognitive_load', 'shortest_path', 'loss_function', 'user_behavior', 'round_trip_time', 'fuzzy_set', 'assignment_problem', 'development', 'pseudorandom_generator', 'metric_learning', 'optimal_control_problem', 'hand_gesture_recognition', 'spatial_relation', 'quality_of_experience', 'adaptive_learning', 'convex_body', 'lattices', 'polynomial_kernel', 'cognitive_radio_networks', 'heterogeneity', 'performance_prediction', 'spike_train', 'adaptivity', 'social_influence', 'fraud_detection', 'synaptic_weight', 'video_segmentation', 'automata', 'quantization', 'radial_basis_functions', 'graph_embedding', 'text_summarization', 'situational_awareness', 'immersion', 'marketing', 'input_vector', 'discrete_optimization', 'simulator', 'wearable_device', 'peer_review', 'termination', 'cache_coherence', 'gait_analysis', 'change_management', 'truth_table', 'password', 'backpropagation', 'service_quality', 'trees', 'object-oriented_programming', 'object_segmentation', 'local_memory', 'nanotechnology', 'data_association', 'epilepsy', 'node_failure', 'ica', 'symmetric_encryption', 'image_sequence', 'analysis_of_algorithms', 'packing_problem', 'relevance', 'trajectory', 'selection', 'feature_selection_algorithm', 'text_detection', 'data_processing', 'hardware_architecture', 'heart_rate', 'ontology_matching', 'performance_ratio', 'large_graph', 'benchmark_suite', 'registration_algorithm', 'feature_model', 'research_evaluation', 'partial_order_reduction', 'manipulation', 'public_sector', 'retinal_image', 'economics', 'inverse_kinematic', 'superconvergence', 'trustworthiness', 'back_propagation', 'fuzzy_set_theory', 'salient_object', 'asynchronous', 'adjacency_list', 'feature_detection', 'subspace_learning', 'ids', 'public_administration', 'superlinear_convergence', 'linear_programming_problem', 'learning_management_system', 'robot_vision', 'polynomial_space', 'shortest_paths', 'online_communities', 'regularity', 'social_learning', 'secure_channel', 'capacity_planning', 'health_informatics', 'large_data_base', 'digital_geometry', 'requirements_analysis', 'domain-specific_language', 'prior_knowledge', 'measurements', 'iterative_algorithm', 'drug_discovery', 'function_call', 'vehicular_network', 'dominating_set', 'volume_visualization', 'organization', 'congruence_class', 'leadership', 'confidence', 'editing_operation', 'preference_list', 'episodic_memory', 'exploratory_search', 'photogrammetry', 'data_classification', 'digital_content', 'wide_area_network', 'software_defined_radio', 'original_program', 'game_graph', 'decision_analysis', 'transaction', 'reading_comprehension', 'mobile_commerce', 'option_price', 'visual_analysis', 'evolutionary_game', 'agent_model', 'internal_memory', 'queueing_networks', 'performance_metrics', 'singular_perturbation', 'bounds', 'cuckoo_search_algorithm', 'quality_evaluation', 'online_game', 'fragmentation', 'safety_requirement', 'sentential_form', 'structural_equation_modeling', 'multicast_routing', 'recurrent_network', 'automotive_industry', 'federation', 'chaotic_map', 'fuzzy_entropy', 'uncertainty_quantification', 'haptic_interaction', 'coreference_resolution', 'complexity_analysis', 'congestion_avoidance', 'tetrahedral_mesh', 'skeletonization', 'static_semantic', 'dynamic_texture', '802.11', 'mobile_system', 'information_infrastructure', 'ecosystem', 'lexicon', 'slave_node', 'sequential_circuit', 'code_division_multiple_access', 'tablet', 'illumination', 'cooperative_coevolution', 'fuzzy_data', 'hybrid_method', 'space_usage', 'natural_interaction', 'similarity_matrix', 'aggregation_operators', 'benchmarks', 'neighborhood_graph', 'cognitive_robotics', 'user_profiles', 'cluster_problem', 'cross_validation', 'mediation', 'line_detection', 'physics', 'sequence_mining', 'nonparametric_regression', 'strategies', 'euclidean_plane', 'outer_approximation', 'information_seeking', 'heterogeneous_data', 'iteration', 'backtracking', 'forcing', 'language_extension', 'temporal_coherence', 'melanoma', 'fixed_points', 'path', 'visual_system', 'glaucoma', 'dissimilarity_matrix', 'scientific_productivity', 'average_reward', 'images', 'wavelet_transformation', 'longitudinal_data', 'adaptive_behavior', 'contour_detection', 'perturbation_analysis', 'digital_technology', 'split_graph', 'image_steganography', 'customer_experience', 'control_problem', 'template', 'robot_system', 'merging', 'business_strategy', 'acceptance_test', 'memory_cell', 'news_item', 'psychophysics', 'stable_matching', 'matrix', 'enterprise_application', 'intrinsic_parameter', 'perceptron', 'unit_commitment', 'computational_efficiency', 'object-oriented_design', 'majority_rule', 'domain_concept', 'design_automation', 'honeypot', 'mailing_list', 'corporate_governance', 'channel_selection', 'role_hierarchy', 'research_integrity', 'surrogate_model', 'cost_estimation', 'schedule_length', 'neighborhood', 'rendezvous', 'forward_search', 'scale-space', 'cancer_classification', 'ensemble_classification', 'discussion_forum', 'auditory_cortex', 'string_kernel', 'multimedia_streaming', 'frequent_sequence', 'mean_absolute_percentage_error', 'recurrence_relation', 'hash', 'parallel_mechanism', 'interference_mitigation', 'subgradient_method', 'tone_mapping', 'cluster_quality', 'enterprise', 'finite_type', 'secure_two-party_computation', 'object', 'shared_workspace', 'polytopes', 'longest_common_subsequence', 'electronic_government', 'emerging_technologies', 'mesh_networks', 'semantic_reasoning', 'biodiversity', 'reciprocity', 'obstructive_sleep_apnea', 'regularization_method', 'curve_evolution', 'tree_automata', 'fairness_index', 'industrial_design', 'combination', 'boundary_control', 'surface_mesh', 'plain_text', 'filter_design', 'formal_description', 'reengineering', 'gray_matter', 'formal_specifications', 'groups', 'distance_measures', 'walking', 'graph_colouring', 'tangible_interfaces', 'deduction', 'document_structure', 'writer_identification', 'route_request', 'data_graph', 'interdisciplinary_research', 'geometric_optimization', 'meta-modeling', 'intellectual_disability', 'cylindrical_algebraic_decomposition', 'relationship', 'carrier_frequency_offset', 'input_program', 'continuous_improvement', 'income_distribution', 'impulsive_control', 'continuous_speech_recognition', 'transaction_cost', 'activity_monitoring', 'spatial_constraint', 'system_throughput', 'kernel_space', 'voice_conversion', 'representations', 'fluid_dynamics', 'eye_gaze', 'sparse_approximation', 'transformations', 'authentication_mechanism', 'power_amplifier', 'pseudorandom_number_generator', 'primal_graph', 'deep_belief_networks', 'kernel_trick', 'penalty_method', 'spreadsheets', 'virtual_sensor', 'stereotypes', 'query_languages', 'histogram_shifting', 'information_behavior', 'word_boundary', 'initial_partition', 'traffic_safety', 'swarm_robots', 'skill', 'intelligent', 'map-reduce', 'discretization_method', 'lane_change', 'personalized_search', 'prototype_tool', 'hedging', 'information_aggregation', 'convergence_acceleration', 'discrete_cosine_transformation', 'cognitive_agents', 'algebraic_curve', 'latent_variables', 'ransomware', 'neural_activity', 'non-local_means', 'memory_size', 'inversion', 'noisy_speech', 'disaster_recovery', 'load_distribution', 'peer-to-peer_(p2p)', 'list_ranking', 'multi-armed_bandit', 'network_capacity', 'aircraft', 'image_editing', 'distance_computation', 'control_rule', 'data_subject', 'bargaining_game', 'cognitive_processes', 'nonlinear_filtering', 'branch_and_cut', 'localization_algorithm', 'substructural_logics', 'recurrence_relations', 'perceptual_quality', 'acyclic_digraph', 'reference_models', 'negligible_probability', 'action_sequence', 'continuous_domain', 'online_auctions', 'language_processing', 'resource_requirement', 'claw-free_graphs', 'dependencies', 'prime_order', 'nonconvex', 'portal', 'environment_model', 'permutation_polynomial', 'reconfigurable_architectures', 'manipulation_task', 'satisfaction_relation', 'lesion_segmentation', 'symmetries', 'tactile_perception', 'data_chunk', 'feedback_vertex_set', 'polynomial_evaluation', 'bag-of-features', 'probabilistic_database', 'probabilistic_method', 'geometric_reasoning', 'photography', 'spatial_crowdsourcing', 'cms', 'hyperbolic_geometry', 'web_archiving', 'communication_security', 'risk_identification', 'firing_rule', 'constant_factor_approximation', 'purchase_order', 'verification_task', 'disagreement', 'machining', 'expectation', 'usefulness', 'parallel_systems', 'backbone_network', 'information_privacy', 'graphics_hardware', 'shape_descriptors', 'pattern_graph', 'science_mapping', 'binary_number', 'merging_algorithm', 'audio_clip', 'beliefs', 'fault_isolation', 'possibility', 'core_language', 'nutrition', 'sphere', 'isometric_embedding', 'b', 'data_movement', 'population_protocol', 'adjacency_relation', 'self-organising_maps', 'cloud_federation', 'control_policy', 'fuzzing', 'mobile_multimedia', 'digital_economy', 'computing_environment', 'functional_requirements', 'optical_tracking', 'data_cleansing', 'unknown_object', 'document_summarization', 'integer_arithmetic', 'context-aware_services', 'reliable_broadcast', 'aspiration_level', 'fire', 'affinity_matrix', 'de', 'specification_languages', 'child-robot_interaction', 'success', 'uniformity', 'asynchronous_mode', 'free_boundary', 'event_space', 'service_area', 'personalized', 'bond_graph', 'functional_module', 'demographics', 'economic_development', 'connection', 'large_network', 'astronomy', 'stationarity', 'local_structure', 'wireless_sensors', 'presentation', 'harmonization', 'topic', 'candidate_pattern', 'affine_space', 'disabled_people', 'prediction_system', 'empty_cell', 'noise_rate', 'radiation', 'online_marketing', 'active_constraint', 'biomimetic', 'multiclass', 'telecare', 'information_distance', 'view_selection', 'computational_simulation', 'text_localization', 'data_summarization', 'dynamic_constraint', 'test_object', 'son', 'built_environment', 'partial_observation', 'spatial_audio', 'non-linear', 'code_metrics', 'spatial_network', 'hardware/software_co-design', 'handwritten_text', 'parity_game', 'load_information', 'skill_level', 'pinning_control', 'total_harmonic_distortion', 'color_spaces', 'flexible_manufacturing', 'multiple_objectives', 'cost-effectiveness', 'approximability', 'perspective_taking', 'acoustic_signal', 'de-noising', 'frequency_analysis', 'stepwise_regression', 'weighted_tree', 'acoustic_feature', 'error_pattern', 'computational_security', 'range_space', 'electricity', 'time-series_data', 'subtractive_clustering', 'neuromorphic', 'molecular_biology', 'feedback_loop', 'matrix_pencil', 'matrix_representation', 'geometric_distribution', 'structural_property', 'automated', 'critical_system', 'blind_watermarking', 'video_signal', 'planning_language', 'artificial_noise', 'courseware', 'geometric_algorithms', 'protein_sequence', 'structural_alignment', 'clause_learning', 'interpolation_error', 'learning_performance', 'local_patch', 'product_rule', 'street_segment', 'behavioral_modeling', 'ics', 'convexification', 'mathematical_induction', 'elicitation', 'structural_complexity', 'kernel_k-means', 'design_evaluation', 'hotspot', 'automatic_composition', 'balancing', 'mesh_refinement', 'post-editing', 'storage_requirement', 'streaming_algorithms', 'reasoning_algorithm', 'minimax_theorem', 'acceptance_criterion', 'quality_inspection', 'complete_characterization', 'music_generation', 'probability_density_estimation', 'capsule_networks', 'mutation_operators', 'speckle', 'asset_price', 'resource_contention', 'essential_matrix', 'great_circle', 'state_transition_system', 'digital_tools', 'relay_networks', 'tree_pruning', 'discontinuity', 'sequential', 'leak_detection', 'variational_problem', 'ambiguity_function', 'manifold_structure', 'coupled_system', 'user_characteristics', 'programming_environments', 'parametric_surface', 'factor', 'main_program', 'genome', 'interaction_patterns', 'ordered_weighted_average', 'ultrasonography', 'claw-free', 'visual_model', 'output_size', 'data_channel']\n"
          ],
          "name": "stdout"
        }
      ]
    },
    {
      "cell_type": "code",
      "metadata": {
        "colab": {
          "base_uri": "https://localhost:8080/",
          "height": 163
        },
        "id": "-nbZWoX7OdoP",
        "outputId": "1080eced-19a6-4e12-866c-1460755c3ca7"
      },
      "source": [
        "print(adj['feature_selection']['social_media'])"
      ],
      "execution_count": null,
      "outputs": [
        {
          "output_type": "error",
          "ename": "KeyError",
          "evalue": "ignored",
          "traceback": [
            "\u001b[0;31m---------------------------------------------------------------------------\u001b[0m",
            "\u001b[0;31mKeyError\u001b[0m                                  Traceback (most recent call last)",
            "\u001b[0;32m<ipython-input-55-a4232661c62a>\u001b[0m in \u001b[0;36m<module>\u001b[0;34m()\u001b[0m\n\u001b[0;32m----> 1\u001b[0;31m \u001b[0mprint\u001b[0m\u001b[0;34m(\u001b[0m\u001b[0madj\u001b[0m\u001b[0;34m[\u001b[0m\u001b[0;34m'feature_selection'\u001b[0m\u001b[0;34m]\u001b[0m\u001b[0;34m[\u001b[0m\u001b[0;34m'social_media'\u001b[0m\u001b[0;34m]\u001b[0m\u001b[0;34m)\u001b[0m\u001b[0;34m\u001b[0m\u001b[0;34m\u001b[0m\u001b[0m\n\u001b[0m",
            "\u001b[0;31mKeyError\u001b[0m: 'social_media'"
          ]
        }
      ]
    },
    {
      "cell_type": "code",
      "metadata": {
        "id": "ndeC59JAK62D"
      },
      "source": [
        "average_distances = []\n",
        "x=[]\n",
        "for group in pd.unique(kmeans_labels.label):\n",
        "  x.append(group)\n",
        "  sum=0\n",
        "  cnt=0\n",
        "\n",
        "  words = kmeans_labels[kmeans_labels['label']==group].index.values.tolist()\n",
        "  #print(words)\n",
        "  for i in range(len(words)):\n",
        "    for j in range(i+1, len(words)):\n",
        "      word1 = words[i]\n",
        "      word2 = words[j]\n",
        "\n",
        "      try:\n",
        "        sum += adj[word1][word2]\n",
        "      except:\n",
        "        sum+=0\n",
        "      cnt+=1\n",
        "\n",
        "  average_distances.append(sum/cnt)"
      ],
      "execution_count": null,
      "outputs": []
    },
    {
      "cell_type": "code",
      "metadata": {
        "colab": {
          "base_uri": "https://localhost:8080/",
          "height": 295
        },
        "id": "JQshkBeuWkw4",
        "outputId": "98b8bd93-f30a-49d6-b409-49b21b37b944"
      },
      "source": [
        "import matplotlib.pyplot as plt\n",
        "\n",
        "tick_label = x\n",
        "plt.bar(x, average_distances, tick_label = tick_label,\n",
        "        width = 0.8, color = ['red'])\n",
        "\n",
        "plt.xlabel('group number')\n",
        "plt.ylabel('average edge weights')\n",
        "plt.title('Average direct weights within groups')\n",
        "plt.show()"
      ],
      "execution_count": null,
      "outputs": [
        {
          "output_type": "display_data",
          "data": {
            "image/png": "[encoded data removed]",
            "text/plain": [
              "<Figure size 432x288 with 1 Axes>"
            ]
          },
          "metadata": {
            "tags": [],
            "needs_background": "light"
          }
        }
      ]
    },
    {
      "cell_type": "code",
      "metadata": {
        "id": "Uit4TqXlLcAX"
      },
      "source": [
        "labels.to_csv('labels.csv',index=True)"
      ],
      "execution_count": null,
      "outputs": []
    },
    {
      "cell_type": "code",
      "metadata": {
        "colab": {
          "base_uri": "https://localhost:8080/",
          "height": 204
        },
        "id": "xPGKK-FbbOOR",
        "outputId": "13e94ca0-21fa-4261-a3ef-4528b9e6cb85"
      },
      "source": [
        "sorted_labels = labels.sort_values(by='label')\n",
        "sorted_labels.head()"
      ],
      "execution_count": null,
      "outputs": [
        {
          "output_type": "execute_result",
          "data": {
            "text/html": [
              "<div>\n",
              "<style scoped>\n",
              "    .dataframe tbody tr th:only-of-type {\n",
              "        vertical-align: middle;\n",
              "    }\n",
              "\n",
              "    .dataframe tbody tr th {\n",
              "        vertical-align: top;\n",
              "    }\n",
              "\n",
              "    .dataframe thead th {\n",
              "        text-align: right;\n",
              "    }\n",
              "</style>\n",
              "<table border=\"1\" class=\"dataframe\">\n",
              "  <thead>\n",
              "    <tr style=\"text-align: right;\">\n",
              "      <th></th>\n",
              "      <th>label</th>\n",
              "    </tr>\n",
              "  </thead>\n",
              "  <tbody>\n",
              "    <tr>\n",
              "      <th>maximum_cardinality</th>\n",
              "      <td>0</td>\n",
              "    </tr>\n",
              "    <tr>\n",
              "      <th>visual_data</th>\n",
              "      <td>0</td>\n",
              "    </tr>\n",
              "    <tr>\n",
              "      <th>ideal_lattice</th>\n",
              "      <td>0</td>\n",
              "    </tr>\n",
              "    <tr>\n",
              "      <th>decision_fusion</th>\n",
              "      <td>0</td>\n",
              "    </tr>\n",
              "    <tr>\n",
              "      <th>citation_impact</th>\n",
              "      <td>0</td>\n",
              "    </tr>\n",
              "  </tbody>\n",
              "</table>\n",
              "</div>"
            ],
            "text/plain": [
              "                     label\n",
              "maximum_cardinality      0\n",
              "visual_data              0\n",
              "ideal_lattice            0\n",
              "decision_fusion          0\n",
              "citation_impact          0"
            ]
          },
          "metadata": {
            "tags": []
          },
          "execution_count": 42
        }
      ]
    },
    {
      "cell_type": "code",
      "metadata": {
        "id": "fUHIoxWyl-_v"
      },
      "source": [
        "sorted_labels.to_csv('sorted_labels.csv',index=True)"
      ],
      "execution_count": null,
      "outputs": []
    },
    {
      "cell_type": "code",
      "metadata": {
        "id": "h7NetR6tmKJW"
      },
      "source": [
        ""
      ],
      "execution_count": null,
      "outputs": []
    }
  ]
}